{
 "cells": [
  {
   "cell_type": "code",
   "execution_count": 2,
   "id": "a01f7410",
   "metadata": {},
   "outputs": [
    {
     "name": "stdout",
     "output_type": "stream",
     "text": [
      "         id                                              title  \\\n",
      "0  12224879                          Interactive Dynamic Video   \n",
      "1  11964716  Florida DJs May Face Felony for April Fools' W...   \n",
      "2  11919867       Technology ventures: From Idea to Enterprise   \n",
      "3  10301696  Note by Note: The Making of Steinway L1037 (2007)   \n",
      "4  10482257  Title II kills investment? Comcast and other I...   \n",
      "\n",
      "                                                 url  num_points  \\\n",
      "0            http://www.interactivedynamicvideo.com/         386   \n",
      "1  http://www.thewire.com/entertainment/2013/04/f...           2   \n",
      "2  https://www.amazon.com/Technology-Ventures-Ent...           3   \n",
      "3  http://www.nytimes.com/2007/11/07/movies/07ste...           8   \n",
      "4  http://arstechnica.com/business/2015/10/comcas...          53   \n",
      "\n",
      "   num_comments      author       created_at  \n",
      "0            52    ne0phyte   8/4/2016 11:52  \n",
      "1             1    vezycash  6/23/2016 22:20  \n",
      "2             1     hswarna   6/17/2016 0:01  \n",
      "3             2  walterbell   9/30/2015 4:12  \n",
      "4            22      Deinos  10/31/2015 9:48  \n",
      "             id                                              title  \\\n",
      "20094  12379592  How Purism Avoids Intels Active Management Tec...   \n",
      "20095  10339284          YC Application Translated and Broken Down   \n",
      "20096  10824382  Microkernels are slow and Elvis didn't do no d...   \n",
      "20097  10739875                      How Product Hunt really works   \n",
      "20098  11680777  RoboBrowser: Your friendly neighborhood web sc...   \n",
      "\n",
      "                                                     url  num_points  \\\n",
      "20094  https://puri.sm/philosophy/how-purism-avoids-i...          10   \n",
      "20095  https://medium.com/@zreitano/the-yc-applicatio...           4   \n",
      "20096  http://blog.darknedgy.net/technology/2016/01/0...         169   \n",
      "20097  https://medium.com/@benjiwheeler/how-product-h...         695   \n",
      "20098              https://github.com/jmcarp/robobrowser         182   \n",
      "\n",
      "       num_comments         author        created_at  \n",
      "20094             6  AdmiralAsshat    8/29/2016 2:22  \n",
      "20095             1       zreitano   10/6/2015 14:57  \n",
      "20096           132    vezzy-fnord     1/2/2016 0:49  \n",
      "20097           222          brw12  12/15/2015 19:32  \n",
      "20098            58      pmoriarty    5/12/2016 1:43  \n"
     ]
    }
   ],
   "source": [
    "import pandas as pd\n",
    "\n",
    "df = pd.read_csv('hacker_news.csv')\n",
    "print(df.head())\n",
    "print(df.tail())"
   ]
  },
  {
   "cell_type": "code",
   "execution_count": 17,
   "id": "fde1d183",
   "metadata": {},
   "outputs": [
    {
     "name": "stdout",
     "output_type": "stream",
     "text": [
      "0                                Interactive Dynamic Video\n",
      "1        Florida DJs May Face Felony for April Fools' W...\n",
      "2             Technology ventures: From Idea to Enterprise\n",
      "3        Note by Note: The Making of Steinway L1037 (2007)\n",
      "4        Title II kills investment? Comcast and other I...\n",
      "                               ...                        \n",
      "20094    How Purism Avoids Intels Active Management Tec...\n",
      "20095            YC Application Translated and Broken Down\n",
      "20096    Microkernels are slow and Elvis didn't do no d...\n",
      "20097                        How Product Hunt really works\n",
      "20098    RoboBrowser: Your friendly neighborhood web sc...\n",
      "Name: title, Length: 20099, dtype: object\n"
     ]
    }
   ],
   "source": [
    "titles  = df['title']\n",
    "print(titles)"
   ]
  },
  {
   "cell_type": "code",
   "execution_count": 4,
   "id": "14291ef0",
   "metadata": {},
   "outputs": [
    {
     "name": "stdout",
     "output_type": "stream",
     "text": [
      "(20099, 7)\n"
     ]
    }
   ],
   "source": [
    "print(df.shape)"
   ]
  },
  {
   "cell_type": "code",
   "execution_count": 21,
   "id": "01cff741",
   "metadata": {},
   "outputs": [
    {
     "name": "stdout",
     "output_type": "stream",
     "text": [
      "0                    From Python to Lua: Why We Switched\n",
      "1              Ubuntu 16.04 LTS to Ship Without Python 2\n",
      "2      Create a GUI Application Using Qt and Python i...\n",
      "3      How I Solved GCHQ's Xmas Card with Python and ...\n",
      "4      Unikernel Power Comes to Java, Node.js, Go, an...\n",
      "                             ...                        \n",
      "144    David Beazley  Python Concurrency from the Gro...\n",
      "145      Ask HN: How to automate Python apps deployment?\n",
      "146                            Moving Away from Python 2\n",
      "147                        Python vs. Julia Observations\n",
      "148    Show HN: Decorating: Animated pulsed for your ...\n",
      "Length: 149, dtype: object\n",
      "0       Show HN: Hire JavaScript - Top JavaScript Talent\n",
      "1      Ask HN: Are there any projects or compilers wh...\n",
      "2      If you write JavaScript tools or libraries, bu...\n",
      "3      Rollup.js: A next-generation JavaScript module...\n",
      "4                   V8 JavaScript Engine: V8 Release 5.4\n",
      "                             ...                        \n",
      "164      Fotorama, a responsive JavaScript photo gallery\n",
      "165                   Another Kind of JavaScript Fatigue\n",
      "166    Lonely programmer detective uncovers the Mozil...\n",
      "167    Ask HN: Best Practices for CSS in a Modern Jav...\n",
      "168    Show HN: Parse recipe ingredients using JavaSc...\n",
      "Length: 169, dtype: object\n"
     ]
    }
   ],
   "source": [
    "python = []\n",
    "javascript = []\n",
    "for title in titles:\n",
    "    if 'Python' in title:\n",
    "        python.append(title)\n",
    "    if 'JavaScript' in title:\n",
    "        javascript.append(title)\n",
    "python = pd.Series(python)\n",
    "javascript = pd.Series(javascript)\n",
    "print(python)\n",
    "print(javascript)\n",
    "    "
   ]
  },
  {
   "cell_type": "code",
   "execution_count": 22,
   "id": "6f9cc58e",
   "metadata": {},
   "outputs": [
    {
     "data": {
      "text/plain": [
       "count                                     149\n",
       "unique                                    149\n",
       "top       From Python to Lua: Why We Switched\n",
       "freq                                        1\n",
       "dtype: object"
      ]
     },
     "execution_count": 22,
     "metadata": {},
     "output_type": "execute_result"
    }
   ],
   "source": [
    "python.describe()"
   ]
  },
  {
   "cell_type": "code",
   "execution_count": null,
   "id": "f96301c0",
   "metadata": {},
   "outputs": [],
   "source": []
  }
 ],
 "metadata": {
  "kernelspec": {
   "display_name": "Python 3 (ipykernel)",
   "language": "python",
   "name": "python3"
  },
  "language_info": {
   "codemirror_mode": {
    "name": "ipython",
    "version": 3
   },
   "file_extension": ".py",
   "mimetype": "text/x-python",
   "name": "python",
   "nbconvert_exporter": "python",
   "pygments_lexer": "ipython3",
   "version": "3.9.13"
  }
 },
 "nbformat": 4,
 "nbformat_minor": 5
}
