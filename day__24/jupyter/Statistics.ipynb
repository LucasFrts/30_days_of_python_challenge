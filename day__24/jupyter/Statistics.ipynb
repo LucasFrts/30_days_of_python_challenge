{
 "cells": [
  {
   "cell_type": "code",
   "execution_count": 2,
   "id": "8f8b90c3",
   "metadata": {},
   "outputs": [
    {
     "name": "stdout",
     "output_type": "stream",
     "text": [
      "numpy 1.21.5\n",
      "['ALLOW_THREADS', 'AxisError', 'BUFSIZE', 'Bytes0', 'CLIP', 'ComplexWarning', 'DataSource', 'Datetime64', 'ERR_CALL', 'ERR_DEFAULT', 'ERR_IGNORE', 'ERR_LOG', 'ERR_PRINT', 'ERR_RAISE', 'ERR_WARN', 'FLOATING_POINT_SUPPORT', 'FPE_DIVIDEBYZERO', 'FPE_INVALID', 'FPE_OVERFLOW', 'FPE_UNDERFLOW', 'False_', 'Inf', 'Infinity', 'MAXDIMS', 'MAY_SHARE_BOUNDS', 'MAY_SHARE_EXACT', 'MachAr', 'ModuleDeprecationWarning', 'NAN', 'NINF', 'NZERO', 'NaN', 'PINF', 'PZERO', 'RAISE', 'RankWarning', 'SHIFT_DIVIDEBYZERO', 'SHIFT_INVALID', 'SHIFT_OVERFLOW', 'SHIFT_UNDERFLOW', 'ScalarType', 'Str0', 'Tester', 'TooHardError', 'True_', 'UFUNC_BUFSIZE_DEFAULT', 'UFUNC_PYVALS_NAME', 'Uint64', 'VisibleDeprecationWarning', 'WRAP', '_NoValue', '_UFUNC_API', '__NUMPY_SETUP__', '__all__', '__builtins__', '__cached__', '__config__', '__deprecated_attrs__', '__dir__', '__doc__', '__expired_functions__', '__file__', '__getattr__', '__git_version__', '__loader__', '__mkl_version__', '__name__', '__package__', '__path__', '__spec__', '__version__', '_add_newdoc_ufunc', '_distributor_init', '_financial_names', '_globals', '_mat', '_pytesttester', '_version', 'abs', 'absolute', 'add', 'add_docstring', 'add_newdoc', 'add_newdoc_ufunc', 'alen', 'all', 'allclose', 'alltrue', 'amax', 'amin', 'angle', 'any', 'append', 'apply_along_axis', 'apply_over_axes', 'arange', 'arccos', 'arccosh', 'arcsin', 'arcsinh', 'arctan', 'arctan2', 'arctanh', 'argmax', 'argmin', 'argpartition', 'argsort', 'argwhere', 'around', 'array', 'array2string', 'array_equal', 'array_equiv', 'array_repr', 'array_split', 'array_str', 'asanyarray', 'asarray', 'asarray_chkfinite', 'ascontiguousarray', 'asfarray', 'asfortranarray', 'asmatrix', 'asscalar', 'atleast_1d', 'atleast_2d', 'atleast_3d', 'average', 'bartlett', 'base_repr', 'binary_repr', 'bincount', 'bitwise_and', 'bitwise_not', 'bitwise_or', 'bitwise_xor', 'blackman', 'block', 'bmat', 'bool8', 'bool_', 'broadcast', 'broadcast_arrays', 'broadcast_shapes', 'broadcast_to', 'busday_count', 'busday_offset', 'busdaycalendar', 'byte', 'byte_bounds', 'bytes0', 'bytes_', 'c_', 'can_cast', 'cast', 'cbrt', 'cdouble', 'ceil', 'cfloat', 'char', 'character', 'chararray', 'choose', 'clip', 'clongdouble', 'clongfloat', 'column_stack', 'common_type', 'compare_chararrays', 'compat', 'complex128', 'complex256', 'complex64', 'complex_', 'complexfloating', 'compress', 'concatenate', 'conj', 'conjugate', 'convolve', 'copy', 'copysign', 'copyto', 'core', 'corrcoef', 'correlate', 'cos', 'cosh', 'count_nonzero', 'cov', 'cross', 'csingle', 'ctypeslib', 'cumprod', 'cumproduct', 'cumsum', 'datetime64', 'datetime_as_string', 'datetime_data', 'deg2rad', 'degrees', 'delete', 'deprecate', 'deprecate_with_doc', 'diag', 'diag_indices', 'diag_indices_from', 'diagflat', 'diagonal', 'diff', 'digitize', 'disp', 'divide', 'divmod', 'dot', 'double', 'dsplit', 'dstack', 'dtype', 'e', 'ediff1d', 'einsum', 'einsum_path', 'emath', 'empty', 'empty_like', 'equal', 'errstate', 'euler_gamma', 'exp', 'exp2', 'expand_dims', 'expm1', 'extract', 'eye', 'fabs', 'fastCopyAndTranspose', 'fft', 'fill_diagonal', 'find_common_type', 'finfo', 'fix', 'flatiter', 'flatnonzero', 'flexible', 'flip', 'fliplr', 'flipud', 'float128', 'float16', 'float32', 'float64', 'float_', 'float_power', 'floating', 'floor', 'floor_divide', 'fmax', 'fmin', 'fmod', 'format_float_positional', 'format_float_scientific', 'format_parser', 'frexp', 'frombuffer', 'fromfile', 'fromfunction', 'fromiter', 'frompyfunc', 'fromregex', 'fromstring', 'full', 'full_like', 'gcd', 'generic', 'genfromtxt', 'geomspace', 'get_array_wrap', 'get_include', 'get_printoptions', 'getbufsize', 'geterr', 'geterrcall', 'geterrobj', 'gradient', 'greater', 'greater_equal', 'half', 'hamming', 'hanning', 'heaviside', 'histogram', 'histogram2d', 'histogram_bin_edges', 'histogramdd', 'hsplit', 'hstack', 'hypot', 'i0', 'identity', 'iinfo', 'imag', 'in1d', 'index_exp', 'indices', 'inexact', 'inf', 'info', 'infty', 'inner', 'insert', 'int0', 'int16', 'int32', 'int64', 'int8', 'int_', 'intc', 'integer', 'interp', 'intersect1d', 'intp', 'invert', 'is_busday', 'isclose', 'iscomplex', 'iscomplexobj', 'isfinite', 'isfortran', 'isin', 'isinf', 'isnan', 'isnat', 'isneginf', 'isposinf', 'isreal', 'isrealobj', 'isscalar', 'issctype', 'issubclass_', 'issubdtype', 'issubsctype', 'iterable', 'ix_', 'kaiser', 'kernel_version', 'kron', 'lcm', 'ldexp', 'left_shift', 'less', 'less_equal', 'lexsort', 'lib', 'linalg', 'linspace', 'little_endian', 'load', 'loads', 'loadtxt', 'log', 'log10', 'log1p', 'log2', 'logaddexp', 'logaddexp2', 'logical_and', 'logical_not', 'logical_or', 'logical_xor', 'logspace', 'longcomplex', 'longdouble', 'longfloat', 'longlong', 'lookfor', 'ma', 'mafromtxt', 'mask_indices', 'mat', 'math', 'matmul', 'matrix', 'matrixlib', 'max', 'maximum', 'maximum_sctype', 'may_share_memory', 'mean', 'median', 'memmap', 'meshgrid', 'mgrid', 'min', 'min_scalar_type', 'minimum', 'mintypecode', 'mkl', 'mod', 'modf', 'moveaxis', 'msort', 'multiply', 'nan', 'nan_to_num', 'nanargmax', 'nanargmin', 'nancumprod', 'nancumsum', 'nanmax', 'nanmean', 'nanmedian', 'nanmin', 'nanpercentile', 'nanprod', 'nanquantile', 'nanstd', 'nansum', 'nanvar', 'nbytes', 'ndarray', 'ndenumerate', 'ndfromtxt', 'ndim', 'ndindex', 'nditer', 'negative', 'nested_iters', 'newaxis', 'nextafter', 'nonzero', 'not_equal', 'numarray', 'number', 'obj2sctype', 'object0', 'object_', 'ogrid', 'oldnumeric', 'ones', 'ones_like', 'os', 'outer', 'packbits', 'pad', 'partition', 'percentile', 'pi', 'piecewise', 'place', 'poly', 'poly1d', 'polyadd', 'polyder', 'polydiv', 'polyfit', 'polyint', 'polymul', 'polynomial', 'polysub', 'polyval', 'positive', 'power', 'printoptions', 'prod', 'product', 'promote_types', 'ptp', 'put', 'put_along_axis', 'putmask', 'quantile', 'r_', 'rad2deg', 'radians', 'random', 'ravel', 'ravel_multi_index', 'real', 'real_if_close', 'rec', 'recarray', 'recfromcsv', 'recfromtxt', 'reciprocal', 'record', 'remainder', 'repeat', 'require', 'reshape', 'resize', 'result_type', 'right_shift', 'rint', 'roll', 'rollaxis', 'roots', 'rot90', 'round', 'round_', 'row_stack', 's_', 'safe_eval', 'save', 'savetxt', 'savez', 'savez_compressed', 'sctype2char', 'sctypeDict', 'sctypes', 'searchsorted', 'select', 'set_numeric_ops', 'set_printoptions', 'set_string_function', 'setbufsize', 'setdiff1d', 'seterr', 'seterrcall', 'seterrobj', 'setxor1d', 'shape', 'shares_memory', 'short', 'show_config', 'sign', 'signbit', 'signedinteger', 'sin', 'sinc', 'single', 'singlecomplex', 'sinh', 'size', 'sometrue', 'sort', 'sort_complex', 'source', 'spacing', 'split', 'sqrt', 'square', 'squeeze', 'stack', 'std', 'str0', 'str_', 'string_', 'subtract', 'sum', 'swapaxes', 'sys', 'take', 'take_along_axis', 'tan', 'tanh', 'tensordot', 'test', 'testing', 'tile', 'timedelta64', 'trace', 'tracemalloc_domain', 'transpose', 'trapz', 'tri', 'tril', 'tril_indices', 'tril_indices_from', 'trim_zeros', 'triu', 'triu_indices', 'triu_indices_from', 'true_divide', 'trunc', 'typecodes', 'typename', 'ubyte', 'ufunc', 'uint', 'uint0', 'uint16', 'uint32', 'uint64', 'uint8', 'uintc', 'uintp', 'ulonglong', 'unicode_', 'union1d', 'unique', 'unpackbits', 'unravel_index', 'unsignedinteger', 'unwrap', 'use_hugepage', 'ushort', 'vander', 'var', 'vdot', 'vectorize', 'version', 'void', 'void0', 'vsplit', 'vstack', 'warnings', 'where', 'who', 'zeros', 'zeros_like']\n"
     ]
    }
   ],
   "source": [
    "import numpy as np\n",
    "print('numpy', np.__version__)\n",
    "print(dir(np))"
   ]
  },
  {
   "cell_type": "code",
   "execution_count": 2,
   "id": "0bfd6e4a",
   "metadata": {},
   "outputs": [
    {
     "name": "stdout",
     "output_type": "stream",
     "text": [
      "type <class 'list'>\n",
      "[1, 2, 3, 4, 5]\n",
      "[[0, 1, 2], [3, 4, 5], [6, 7, 8]]\n",
      "<class 'numpy.ndarray'>\n",
      "[1 2 3 4 5]\n"
     ]
    }
   ],
   "source": [
    "python_list = [1,2,3,4,5]\n",
    "print('type', type(python_list))\n",
    "print(python_list)\n",
    "\n",
    "two_dimensional_list = [[0,1,2], [3,4,5], [6,7,8]]\n",
    "print(two_dimensional_list)\n",
    "\n",
    "numpy_array_from_list = np.array(python_list)\n",
    "print(type(numpy_array_from_list))\n",
    "print(numpy_array_from_list)"
   ]
  },
  {
   "cell_type": "code",
   "execution_count": 3,
   "id": "9904dc02",
   "metadata": {},
   "outputs": [
    {
     "name": "stdout",
     "output_type": "stream",
     "text": [
      "[1. 2. 3. 4. 5.]\n"
     ]
    }
   ],
   "source": [
    "python_list = [1,2,3,4,5]\n",
    "\n",
    "numpy_array_from_list2 = np.array(python_list, dtype=float)\n",
    "print(numpy_array_from_list2)"
   ]
  },
  {
   "cell_type": "code",
   "execution_count": 5,
   "id": "7f4e3423",
   "metadata": {},
   "outputs": [
    {
     "name": "stdout",
     "output_type": "stream",
     "text": [
      "[False  True  True False False]\n"
     ]
    }
   ],
   "source": [
    "# Creating boolean numpy arrays\n",
    "\n",
    "numpy_bool_array = np.array([0,1,-1,0,0], dtype=bool)\n",
    "print(numpy_bool_array)"
   ]
  },
  {
   "cell_type": "code",
   "execution_count": 6,
   "id": "023b7b70",
   "metadata": {},
   "outputs": [
    {
     "name": "stdout",
     "output_type": "stream",
     "text": [
      "<class 'numpy.ndarray'>\n",
      "[[0 1 2]\n",
      " [3 4 5]\n",
      " [6 7 8]]\n"
     ]
    }
   ],
   "source": [
    "# Creating a multidimensional array using numpy\n",
    "\n",
    "two_dimensional_list = [[0,1,2],[3,4,5],[6,7,8]]\n",
    "numpy_two_dimensional_list = np.array(two_dimensional_list)\n",
    "print(type(numpy_two_dimensional_list))\n",
    "print(numpy_two_dimensional_list)"
   ]
  },
  {
   "cell_type": "code",
   "execution_count": 8,
   "id": "5e051204",
   "metadata": {},
   "outputs": [
    {
     "name": "stdout",
     "output_type": "stream",
     "text": [
      "<class 'list'>\n",
      "one dimensional array:  [1, 2, 3, 4, 5]\n",
      "two dimensional array:  [[0, 1, 2], [3, 4, 5], [6, 7, 8]]\n"
     ]
    }
   ],
   "source": [
    "# Converting numpy array to list\n",
    "\n",
    "np_to_list = numpy_array_from_list.tolist()\n",
    "print(type(np_to_list))\n",
    "print('one dimensional array: ', np_to_list)\n",
    "print('two dimensional array: ', numpy_two_dimensional_list.tolist())"
   ]
  },
  {
   "cell_type": "code",
   "execution_count": 9,
   "id": "901ee254",
   "metadata": {},
   "outputs": [
    {
     "name": "stdout",
     "output_type": "stream",
     "text": [
      "<class 'tuple'>\n",
      "python tuple (1, 2, 3, 4, 5)\n",
      "<class 'numpy.ndarray'>\n",
      "numpy array from tuple:  [1 2 3 4 5]\n"
     ]
    }
   ],
   "source": [
    "# Creating numpy array from tuple\n",
    "\n",
    "python_tuple = (1,2,3,4,5)\n",
    "print(type(python_tuple))\n",
    "print('python tuple', python_tuple)\n",
    "\n",
    "numpy_array_from_tuple = np.array(python_tuple)\n",
    "print(type(numpy_array_from_tuple))\n",
    "print('numpy array from tuple: ', numpy_array_from_tuple)"
   ]
  },
  {
   "cell_type": "code",
   "execution_count": 11,
   "id": "a69c2452",
   "metadata": {},
   "outputs": [
    {
     "name": "stdout",
     "output_type": "stream",
     "text": [
      "[1 2 3 4 5]\n",
      "shape of nums:  (5,)\n",
      "[[0 1 2]\n",
      " [3 4 5]\n",
      " [6 7 8]]\n",
      "shape of numpy_two_dimensional_list:  (3, 3)\n",
      "(3, 4)\n"
     ]
    }
   ],
   "source": [
    "# Shape of numpy array\n",
    "\n",
    "nums = np.array([1,2,3,4,5])\n",
    "print(nums)\n",
    "print('shape of nums: ', nums.shape)\n",
    "print(numpy_two_dimensional_list)\n",
    "print('shape of numpy_two_dimensional_list: ', numpy_two_dimensional_list.shape)\n",
    "three_by_four_array = np.array([[0,1,2,3],[4,5,6,7], [8,9,10,11]])\n",
    "print(three_by_four_array.shape)"
   ]
  },
  {
   "cell_type": "code",
   "execution_count": 4,
   "id": "7c4b543c",
   "metadata": {},
   "outputs": [
    {
     "name": "stdout",
     "output_type": "stream",
     "text": [
      "[-3 -2 -1  0  1  2  3]\n",
      "int64\n",
      "[-3. -2. -1.  0.  1.  2.  3.]\n",
      "float64\n"
     ]
    }
   ],
   "source": [
    "# Data type of numpy array\n",
    "\n",
    "int_lists = [-3,-2,-1,0,1,2,3]\n",
    "int_array = np.array(int_lists)\n",
    "float_array = np.array(int_lists, dtype=float)\n",
    "print(int_array)\n",
    "print(int_array.dtype)\n",
    "print(float_array)\n",
    "print(float_array.dtype)"
   ]
  },
  {
   "cell_type": "code",
   "execution_count": 5,
   "id": "3be778ae",
   "metadata": {},
   "outputs": [
    {
     "name": "stdout",
     "output_type": "stream",
     "text": [
      "The size:  5\n",
      "The size:  9\n"
     ]
    }
   ],
   "source": [
    "# Size of numpy array\n",
    "\n",
    "numpy_array_from_list = np.array([1,2,3,4,5])\n",
    "two_dimensional_list = np.array([[0,1,2],[3,4,5],[6,7,8]])\n",
    "print('The size: ', numpy_array_from_list.size)\n",
    "print('The size: ', two_dimensional_list.size)"
   ]
  },
  {
   "cell_type": "code",
   "execution_count": 6,
   "id": "3921182a",
   "metadata": {},
   "outputs": [
    {
     "name": "stdout",
     "output_type": "stream",
     "text": [
      "original array:  [1 2 3 4 5]\n",
      "[11 12 13 14 15]\n"
     ]
    }
   ],
   "source": [
    "# Mathematical operation using numpy\n",
    "\n",
    "# Addition\n",
    "numpy_array_from_list = np.array([1,2,3,4,5])\n",
    "print('original array: ', numpy_array_from_list)\n",
    "ten_plus_original = numpy_array_from_list + 10\n",
    "print(ten_plus_original)"
   ]
  },
  {
   "cell_type": "code",
   "execution_count": 7,
   "id": "c2cb4cc0",
   "metadata": {},
   "outputs": [
    {
     "name": "stdout",
     "output_type": "stream",
     "text": [
      "original array:  [1 2 3 4 5]\n",
      "[-9 -8 -7 -6 -5]\n"
     ]
    }
   ],
   "source": [
    "# Subtraction\n",
    "\n",
    "numpy_array_from_list = np.array([1,2,3,4,5])\n",
    "print('original array: ', numpy_array_from_list)\n",
    "ten_minus_original = numpy_array_from_list - 10\n",
    "print(ten_minus_original)"
   ]
  },
  {
   "cell_type": "code",
   "execution_count": 8,
   "id": "78c5f1ac",
   "metadata": {},
   "outputs": [
    {
     "name": "stdout",
     "output_type": "stream",
     "text": [
      "original array:  [1 2 3 4 5]\n",
      "[10 20 30 40 50]\n"
     ]
    }
   ],
   "source": [
    "# Multiplication\n",
    "\n",
    "numpy_array_from_list = np.array([1,2,3,4,5])\n",
    "print('original array: ', numpy_array_from_list)\n",
    "ten_times_original = numpy_array_from_list * 10\n",
    "print(ten_times_original)"
   ]
  },
  {
   "cell_type": "code",
   "execution_count": 11,
   "id": "2e84db8a",
   "metadata": {},
   "outputs": [
    {
     "name": "stdout",
     "output_type": "stream",
     "text": [
      "original array:  [1 2 3 4 5]\n",
      "[0.1 0.2 0.3 0.4 0.5]\n"
     ]
    }
   ],
   "source": [
    "# Division\n",
    "numpy_array_from_list = np.array([1,2,3,4,5])\n",
    "print('original array: ', numpy_array_from_list)\n",
    "ten_times_original = numpy_array_from_list / 10\n",
    "print(ten_times_original)"
   ]
  },
  {
   "cell_type": "code",
   "execution_count": 12,
   "id": "080bdf70",
   "metadata": {},
   "outputs": [
    {
     "name": "stdout",
     "output_type": "stream",
     "text": [
      "original array:  [1 2 3 4 5]\n",
      "[1 2 0 1 2]\n"
     ]
    }
   ],
   "source": [
    "# Modulus\n",
    "\n",
    "numpy_array_from_list = np.array([1,2,3,4,5])\n",
    "print('original array: ', numpy_array_from_list)\n",
    "modulus_three_original = numpy_array_from_list % 3\n",
    "print(modulus_three_original)"
   ]
  },
  {
   "cell_type": "code",
   "execution_count": 13,
   "id": "ba85a463",
   "metadata": {},
   "outputs": [
    {
     "name": "stdout",
     "output_type": "stream",
     "text": [
      "original array:  [1 2 3 4 5]\n",
      "[0 0 0 0 0]\n"
     ]
    }
   ],
   "source": [
    "# Floor division\n",
    "\n",
    "numpy_array_from_list = np.array([1,2,3,4,5])\n",
    "print('original array: ', numpy_array_from_list)\n",
    "floor_division_list = numpy_array_from_list // 10\n",
    "print(floor_division_list)"
   ]
  },
  {
   "cell_type": "code",
   "execution_count": 14,
   "id": "f97cf108",
   "metadata": {},
   "outputs": [
    {
     "name": "stdout",
     "output_type": "stream",
     "text": [
      "original array:  [1 2 3 4 5]\n",
      "[ 1  4  9 16 25]\n"
     ]
    }
   ],
   "source": [
    "# Exponential\n",
    "numpy_array_from_list = np.array([1,2,3,4,5])\n",
    "print('original array: ', numpy_array_from_list)\n",
    "exponential_list = numpy_array_from_list ** 2\n",
    "print(exponential_list)"
   ]
  },
  {
   "cell_type": "code",
   "execution_count": 16,
   "id": "187d7d37",
   "metadata": {},
   "outputs": [
    {
     "name": "stdout",
     "output_type": "stream",
     "text": [
      "int64\n",
      "float64\n",
      "bool\n"
     ]
    }
   ],
   "source": [
    "# Checking data types\n",
    "\n",
    "numpy_int_arr = np.array([1,2,3,4])\n",
    "numpy_float_arr = np.array([1.1,2.0,3.2])\n",
    "numpy_bool_arr = np.array([-3,-2,0,1,2,3], dtype='bool')\n",
    "\n",
    "print(numpy_int_arr.dtype)\n",
    "print(numpy_float_arr.dtype)\n",
    "print(numpy_bool_arr.dtype)"
   ]
  },
  {
   "cell_type": "code",
   "execution_count": 21,
   "id": "1d234b70",
   "metadata": {},
   "outputs": [
    {
     "data": {
      "text/plain": [
       "array([1., 2., 3., 4.])"
      ]
     },
     "execution_count": 21,
     "metadata": {},
     "output_type": "execute_result"
    }
   ],
   "source": [
    "# Converting types\n",
    "\n",
    "# int to float\n",
    "numpy_int_arr = np.array([1,2,3,4], dtype='float')\n",
    "numpy_int_arr"
   ]
  },
  {
   "cell_type": "code",
   "execution_count": 18,
   "id": "03d516bd",
   "metadata": {},
   "outputs": [
    {
     "data": {
      "text/plain": [
       "array([1, 2, 3, 4])"
      ]
     },
     "execution_count": 18,
     "metadata": {},
     "output_type": "execute_result"
    }
   ],
   "source": [
    "# float to int\n",
    "numpy_int_arr = np.array([1., 2., 3., 4.], dtype=int)\n",
    "numpy_int_arr"
   ]
  },
  {
   "cell_type": "code",
   "execution_count": 19,
   "id": "472fe873",
   "metadata": {},
   "outputs": [
    {
     "data": {
      "text/plain": [
       "array([ True,  True, False,  True,  True,  True])"
      ]
     },
     "execution_count": 19,
     "metadata": {},
     "output_type": "execute_result"
    }
   ],
   "source": [
    "# int to boolean\n",
    "\n",
    "np.array([-3,-2,0,1,2,3], dtype=bool)"
   ]
  },
  {
   "cell_type": "code",
   "execution_count": 25,
   "id": "d82bd907",
   "metadata": {},
   "outputs": [
    {
     "data": {
      "text/plain": [
       "array(['1', '2', '3', '4'], dtype='<U21')"
      ]
     },
     "execution_count": 25,
     "metadata": {},
     "output_type": "execute_result"
    }
   ],
   "source": [
    "# int to str\n",
    "\n",
    "numpy_int_arr.astype('int').astype('str')"
   ]
  },
  {
   "cell_type": "code",
   "execution_count": 26,
   "id": "01a0dba5",
   "metadata": {},
   "outputs": [
    {
     "name": "stdout",
     "output_type": "stream",
     "text": [
      "<class 'numpy.ndarray'>\n",
      "[[1 2 3]\n",
      " [4 5 6]\n",
      " [7 8 9]]\n",
      "shape (3, 3)\n",
      "size 9\n",
      "data type int64\n"
     ]
    }
   ],
   "source": [
    "# Multi dimensional array\n",
    "\n",
    "two_dimension_array = np.array([(1,2,3), (4,5,6), (7,8,9)])\n",
    "print(type(two_dimension_array))\n",
    "print(two_dimension_array)\n",
    "print('shape', two_dimension_array.shape)\n",
    "print('size', two_dimension_array.size)\n",
    "print('data type', two_dimension_array.dtype)"
   ]
  },
  {
   "cell_type": "code",
   "execution_count": 28,
   "id": "275dd1b4",
   "metadata": {},
   "outputs": [
    {
     "name": "stdout",
     "output_type": "stream",
     "text": [
      "First row [1 2 3]\n",
      "Second row [4 5 6]\n",
      "Third row [7 8 9]\n"
     ]
    }
   ],
   "source": [
    "# getting itens from a numpy array\n",
    "\n",
    "two_dimension_array = np.array([[1,2,3],[4,5,6],[7,8,9]])\n",
    "first_row = two_dimension_array[0]\n",
    "second_row = two_dimension_array[1]\n",
    "third_row = two_dimension_array[2]\n",
    "\n",
    "print('First row', first_row)\n",
    "print('Second row', second_row)\n",
    "print('Third row', third_row)"
   ]
  },
  {
   "cell_type": "code",
   "execution_count": 29,
   "id": "92fdc135",
   "metadata": {},
   "outputs": [
    {
     "name": "stdout",
     "output_type": "stream",
     "text": [
      "First column [1 4 7]\n",
      "Second column [2 5 8]\n",
      "Third column [3 6 9]\n"
     ]
    }
   ],
   "source": [
    "first_column = two_dimension_array[:,0]\n",
    "second_column = two_dimension_array[:,1]\n",
    "third_column = two_dimension_array[:,2]\n",
    "print('First column', first_column)\n",
    "print('Second column', second_column)\n",
    "print('Third column', third_column)"
   ]
  },
  {
   "cell_type": "code",
   "execution_count": 30,
   "id": "5e6e9bce",
   "metadata": {},
   "outputs": [
    {
     "data": {
      "text/plain": [
       "array([[1, 2],\n",
       "       [4, 5]])"
      ]
     },
     "execution_count": 30,
     "metadata": {},
     "output_type": "execute_result"
    }
   ],
   "source": [
    "# Slicing numpy array\n",
    "\n",
    "two_dimension_array = np.array([[1,2,3], [4,5,6], [7,8,9]])\n",
    "first_two_rows_and_columns = two_dimension_array[0:2, 0:2]\n",
    "first_two_rows_and_columns"
   ]
  },
  {
   "cell_type": "code",
   "execution_count": 27,
   "id": "bda52a24",
   "metadata": {},
   "outputs": [
    {
     "data": {
      "text/plain": [
       "array([[9, 8, 7],\n",
       "       [6, 5, 4],\n",
       "       [3, 2, 1]])"
      ]
     },
     "execution_count": 27,
     "metadata": {},
     "output_type": "execute_result"
    }
   ],
   "source": [
    "# Reverse the row and column positions\n",
    "\n",
    "two_dimension_array = np.array([[1,2,3],[4,5,6],[7,8,9]])\n",
    "two_dimension_array[::-1, ::-1]"
   ]
  },
  {
   "cell_type": "code",
   "execution_count": 28,
   "id": "8e39ae05",
   "metadata": {},
   "outputs": [
    {
     "name": "stdout",
     "output_type": "stream",
     "text": [
      "[[1 2 3]\n",
      " [4 5 6]\n",
      " [7 8 9]]\n",
      "[[ 1  2  3]\n",
      " [ 4 55 44]\n",
      " [ 7  8  9]]\n"
     ]
    }
   ],
   "source": [
    "print(two_dimension_array)\n",
    "two_dimension_array[1,1] = 55\n",
    "two_dimension_array[1,2] = 44\n",
    "print(two_dimension_array)"
   ]
  },
  {
   "cell_type": "code",
   "execution_count": 34,
   "id": "6f1362ea",
   "metadata": {},
   "outputs": [
    {
     "data": {
      "text/plain": [
       "array([[0, 0, 0],\n",
       "       [0, 0, 0],\n",
       "       [0, 0, 0]])"
      ]
     },
     "execution_count": 34,
     "metadata": {},
     "output_type": "execute_result"
    }
   ],
   "source": [
    "# Numpy Zeros\n",
    "# numpy.zeros(shape, dtype=float, order='C')\n",
    "\n",
    "numpy_zeros = np.zeros((3,3), dtype=int, order='C')\n",
    "numpy_zeros"
   ]
  },
  {
   "cell_type": "code",
   "execution_count": 36,
   "id": "be6e2eb7",
   "metadata": {},
   "outputs": [
    {
     "data": {
      "text/plain": [
       "array([[1., 1.],\n",
       "       [1., 1.],\n",
       "       [1., 1.],\n",
       "       [1., 1.]])"
      ]
     },
     "execution_count": 36,
     "metadata": {},
     "output_type": "execute_result"
    }
   ],
   "source": [
    "numpy_ones = np.ones((4,2), dtype=float, order='C')\n",
    "numpy_ones"
   ]
  },
  {
   "cell_type": "code",
   "execution_count": 38,
   "id": "c41cdcbd",
   "metadata": {},
   "outputs": [
    {
     "data": {
      "text/plain": [
       "array([[2., 2.],\n",
       "       [2., 2.],\n",
       "       [2., 2.],\n",
       "       [2., 2.]])"
      ]
     },
     "execution_count": 38,
     "metadata": {},
     "output_type": "execute_result"
    }
   ],
   "source": [
    "twoes = numpy_ones * 2\n",
    "twoes"
   ]
  },
  {
   "cell_type": "code",
   "execution_count": 41,
   "id": "e9d8950f",
   "metadata": {},
   "outputs": [
    {
     "name": "stdout",
     "output_type": "stream",
     "text": [
      "[[1 2 3]\n",
      " [4 5 6]]\n",
      "[[1 2]\n",
      " [3 4]\n",
      " [5 6]]\n"
     ]
    }
   ],
   "source": [
    "# Reshape\n",
    "# numpy.reshape(), numpy.flatten()\n",
    "\n",
    "first_shape = np.array([(1,2,3), (4,5,6)])\n",
    "print(first_shape)\n",
    "reshaped = first_shape.reshape(3,2)\n",
    "print(reshaped)"
   ]
  },
  {
   "cell_type": "code",
   "execution_count": 42,
   "id": "11189825",
   "metadata": {},
   "outputs": [
    {
     "data": {
      "text/plain": [
       "array([1, 2, 3, 4, 5, 6])"
      ]
     },
     "execution_count": 42,
     "metadata": {},
     "output_type": "execute_result"
    }
   ],
   "source": [
    "flattened = reshaped.flatten()\n",
    "flattened"
   ]
  },
  {
   "cell_type": "code",
   "execution_count": 43,
   "id": "e31c0b29",
   "metadata": {},
   "outputs": [
    {
     "name": "stdout",
     "output_type": "stream",
     "text": [
      "[5 7 9]\n",
      "Horizontal append:  [1 2 3 4 5 6]\n"
     ]
    }
   ],
   "source": [
    "# horizontal stack\n",
    "np_list_one = np.array([1,2,3])\n",
    "np_list_two = np.array([4,5,6])\n",
    "print(np_list_one + np_list_two)\n",
    "\n",
    "print('Horizontal append: ', np.hstack((np_list_one, np_list_two)))"
   ]
  },
  {
   "cell_type": "code",
   "execution_count": 45,
   "id": "bedf676e",
   "metadata": {},
   "outputs": [
    {
     "name": "stdout",
     "output_type": "stream",
     "text": [
      "Vertical stack:  [[1 2 3]\n",
      " [4 5 6]]\n"
     ]
    }
   ],
   "source": [
    "# Vertical stack\n",
    "\n",
    "print('Vertical stack: ', np.vstack((np_list_one, np_list_two)))"
   ]
  },
  {
   "cell_type": "code",
   "execution_count": 46,
   "id": "eac9f3b4",
   "metadata": {},
   "outputs": [
    {
     "data": {
      "text/plain": [
       "0.6279902511006941"
      ]
     },
     "execution_count": 46,
     "metadata": {},
     "output_type": "execute_result"
    }
   ],
   "source": [
    "# Generating random numbers\n",
    "# Random float number\n",
    "\n",
    "random_float = np.random.random()\n",
    "random_float"
   ]
  },
  {
   "cell_type": "code",
   "execution_count": 47,
   "id": "e442fd97",
   "metadata": {},
   "outputs": [
    {
     "data": {
      "text/plain": [
       "array([0.86581601, 0.9533542 , 0.03602794, 0.4900439 , 0.64417249])"
      ]
     },
     "execution_count": 47,
     "metadata": {},
     "output_type": "execute_result"
    }
   ],
   "source": [
    "random_floats = np.random.random(5)\n",
    "random_floats"
   ]
  },
  {
   "cell_type": "code",
   "execution_count": 48,
   "id": "d7547b5a",
   "metadata": {},
   "outputs": [
    {
     "data": {
      "text/plain": [
       "4"
      ]
     },
     "execution_count": 48,
     "metadata": {},
     "output_type": "execute_result"
    }
   ],
   "source": [
    "# Random integer between 2 and 11\n",
    "random_int = np.random.randint(0, 11)\n",
    "random_int"
   ]
  },
  {
   "cell_type": "code",
   "execution_count": 50,
   "id": "bba6ccea",
   "metadata": {},
   "outputs": [
    {
     "data": {
      "text/plain": [
       "array([4, 7, 5, 6])"
      ]
     },
     "execution_count": 50,
     "metadata": {},
     "output_type": "execute_result"
    }
   ],
   "source": [
    "# Random integer between 2 and 10 and creating a one row array\n",
    "random_int = np.random.randint(2,10, size=4)\n",
    "random_int"
   ]
  },
  {
   "cell_type": "code",
   "execution_count": 52,
   "id": "baacd7b4",
   "metadata": {},
   "outputs": [
    {
     "data": {
      "text/plain": [
       "array([[4, 9, 2],\n",
       "       [2, 3, 1],\n",
       "       [3, 5, 0]])"
      ]
     },
     "execution_count": 52,
     "metadata": {},
     "output_type": "execute_result"
    }
   ],
   "source": [
    "# Generating a random integers between 0 and 10\n",
    "random_int = np.random.randint(0,10, size=(3,3))\n",
    "random_int"
   ]
  },
  {
   "cell_type": "code",
   "execution_count": 3,
   "id": "fa917b48",
   "metadata": {},
   "outputs": [
    {
     "data": {
      "text/plain": [
       "array([ 76.96634966,  75.07395185,  74.75470604,  75.23186166,\n",
       "        96.32728497,  92.43099142,  65.11746318,  89.40470013,\n",
       "        61.89429073,  69.47310213,  88.86478381,  60.51302573,\n",
       "        62.17834784, 113.38591056,  78.41076431,  77.16551355,\n",
       "        74.03283871,  90.30143674,  77.15577659,  78.20110929,\n",
       "        73.00741041,  78.61925839,  89.18904103,  61.63210904,\n",
       "        69.3428074 ,  68.78157482,  81.28060017,  78.17713171,\n",
       "        64.07896466,  79.56457079,  66.33512904,  46.53230456,\n",
       "        66.93035793,  73.12157975,  92.74742138,  88.97026532,\n",
       "       102.65288718,  42.1868176 ,  81.80763238,  67.51593156,\n",
       "        77.3665466 , 109.39636127, 105.48656689,  80.15837728,\n",
       "        84.54837825,  97.02731137,  96.39883253,  63.70852833,\n",
       "        85.15044828,  67.11436274,  62.31396149,  81.13749301,\n",
       "        81.20062848,  66.78689056,  72.11747921,  69.09600931,\n",
       "        84.6810034 ,  68.06430353, 107.66366475,  63.42301588,\n",
       "        55.00772599,  97.28662541,  99.3582662 ,  79.92527639,\n",
       "        79.10500139,  69.13578263,  56.90558335,  86.93808624,\n",
       "        95.92745643,  85.06646325,  75.81276079,  73.09356403,\n",
       "        66.01879741,  86.62878224,  57.12679916,  70.10689907,\n",
       "        70.94339807,  85.50647165,  81.95047804,  77.7635682 ])"
      ]
     },
     "execution_count": 3,
     "metadata": {},
     "output_type": "execute_result"
    }
   ],
   "source": [
    "# np.random.normal(mu, sigma, size)\n",
    "\n",
    "normal_array = np.random.normal(79, 15, 80)\n",
    "normal_array"
   ]
  },
  {
   "cell_type": "code",
   "execution_count": 5,
   "id": "24e58d5d",
   "metadata": {},
   "outputs": [
    {
     "data": {
      "text/plain": [
       "(array([1., 0., 0., 1., 0., 0., 0., 0., 0., 1., 2., 0., 1., 2., 3., 2., 3.,\n",
       "        4., 4., 3., 1., 4., 2., 3., 5., 5., 3., 5., 0., 2., 3., 2., 2., 3.,\n",
       "        0., 2., 0., 1., 4., 0., 1., 0., 1., 0., 1., 1., 0., 1., 0., 1.]),\n",
       " array([ 42.1868176 ,  43.61079946,  45.03478132,  46.45876318,\n",
       "         47.88274504,  49.3067269 ,  50.73070876,  52.15469062,\n",
       "         53.57867248,  55.00265433,  56.42663619,  57.85061805,\n",
       "         59.27459991,  60.69858177,  62.12256363,  63.54654549,\n",
       "         64.97052735,  66.39450921,  67.81849107,  69.24247293,\n",
       "         70.66645478,  72.09043664,  73.5144185 ,  74.93840036,\n",
       "         76.36238222,  77.78636408,  79.21034594,  80.6343278 ,\n",
       "         82.05830966,  83.48229152,  84.90627338,  86.33025523,\n",
       "         87.75423709,  89.17821895,  90.60220081,  92.02618267,\n",
       "         93.45016453,  94.87414639,  96.29812825,  97.72211011,\n",
       "         99.14609197, 100.57007383, 101.99405568, 103.41803754,\n",
       "        104.8420194 , 106.26600126, 107.68998312, 109.11396498,\n",
       "        110.53794684, 111.9619287 , 113.38591056]),\n",
       " <BarContainer object of 50 artists>)"
      ]
     },
     "execution_count": 5,
     "metadata": {},
     "output_type": "execute_result"
    },
    {
     "data": {
      "image/png": "[encoded data removed]",
      "text/plain": [
       "<Figure size 640x480 with 1 Axes>"
      ]
     },
     "metadata": {},
     "output_type": "display_data"
    }
   ],
   "source": [
    "import matplotlib.pyplot as plt\n",
    "import seaborn as sns\n",
    "\n",
    "sns.set()\n",
    "plt.hist(normal_array, color=\"grey\", bins=50)"
   ]
  },
  {
   "cell_type": "code",
   "execution_count": 6,
   "id": "9d0c6d2a",
   "metadata": {},
   "outputs": [
    {
     "data": {
      "text/plain": [
       "matrix([[1., 1., 1., 1.],\n",
       "        [1., 1., 1., 1.],\n",
       "        [1., 1., 1., 1.],\n",
       "        [1., 1., 1., 1.]])"
      ]
     },
     "execution_count": 6,
     "metadata": {},
     "output_type": "execute_result"
    }
   ],
   "source": [
    "# Matrix in numpy\n",
    "\n",
    "four_by_four_matrix = np.matrix(np.ones((4,4), dtype=float))\n",
    "four_by_four_matrix"
   ]
  },
  {
   "cell_type": "code",
   "execution_count": 7,
   "id": "31f5be70",
   "metadata": {},
   "outputs": [
    {
     "data": {
      "text/plain": [
       "range(0, 11, 2)"
      ]
     },
     "execution_count": 7,
     "metadata": {},
     "output_type": "execute_result"
    }
   ],
   "source": [
    "# Numpy numpy.arange()\n",
    "\n",
    "# Creating list using range(starting, stop, step)\n",
    "lst = range(0,11,2)\n",
    "lst"
   ]
  },
  {
   "cell_type": "code",
   "execution_count": 8,
   "id": "342fbdb5",
   "metadata": {},
   "outputs": [
    {
     "name": "stdout",
     "output_type": "stream",
     "text": [
      "0\n",
      "2\n",
      "4\n",
      "6\n",
      "8\n",
      "10\n"
     ]
    }
   ],
   "source": [
    "for l in lst:\n",
    "    print(l)"
   ]
  },
  {
   "cell_type": "code",
   "execution_count": 9,
   "id": "c7bc35cf",
   "metadata": {},
   "outputs": [
    {
     "data": {
      "text/plain": [
       "array([ 0,  1,  2,  3,  4,  5,  6,  7,  8,  9, 10, 11, 12, 13, 14, 15, 16,\n",
       "       17, 18, 19])"
      ]
     },
     "execution_count": 9,
     "metadata": {},
     "output_type": "execute_result"
    }
   ],
   "source": [
    "# similar to range arange numpy.arange(start, stop, step)\n",
    "\n",
    "whole_numbers = np.arange(0, 20, 1)\n",
    "whole_numbers\n"
   ]
  },
  {
   "cell_type": "code",
   "execution_count": 10,
   "id": "d89723be",
   "metadata": {},
   "outputs": [
    {
     "data": {
      "text/plain": [
       "array([ 1,  2,  3,  4,  5,  6,  7,  8,  9, 10, 11, 12, 13, 14, 15, 16, 17,\n",
       "       18, 19])"
      ]
     },
     "execution_count": 10,
     "metadata": {},
     "output_type": "execute_result"
    }
   ],
   "source": [
    "natural_numbers = np.arange(1,20,1)\n",
    "natural_numbers"
   ]
  },
  {
   "cell_type": "code",
   "execution_count": 11,
   "id": "363f9fc1",
   "metadata": {},
   "outputs": [],
   "source": [
    "odd_numbers = np.arange(1,20,2)"
   ]
  },
  {
   "cell_type": "code",
   "execution_count": 12,
   "id": "bda9f820",
   "metadata": {},
   "outputs": [
    {
     "data": {
      "text/plain": [
       "array([ 1,  3,  5,  7,  9, 11, 13, 15, 17, 19])"
      ]
     },
     "execution_count": 12,
     "metadata": {},
     "output_type": "execute_result"
    }
   ],
   "source": [
    "odd_numbers"
   ]
  },
  {
   "cell_type": "code",
   "execution_count": 13,
   "id": "440b7343",
   "metadata": {},
   "outputs": [
    {
     "data": {
      "text/plain": [
       "array([ 0,  2,  4,  6,  8, 10, 12, 14, 16, 18])"
      ]
     },
     "execution_count": 13,
     "metadata": {},
     "output_type": "execute_result"
    }
   ],
   "source": [
    "even_numbers = np.arange(0,20,2)\n",
    "even_numbers"
   ]
  },
  {
   "cell_type": "code",
   "execution_count": 15,
   "id": "e7ffab74",
   "metadata": {},
   "outputs": [
    {
     "data": {
      "text/plain": [
       "array([1.        , 1.44444444, 1.88888889, 2.33333333, 2.77777778,\n",
       "       3.22222222, 3.66666667, 4.11111111, 4.55555556, 5.        ])"
      ]
     },
     "execution_count": 15,
     "metadata": {},
     "output_type": "execute_result"
    }
   ],
   "source": [
    "# Creating sequence of numbers using linspace\n",
    "\n",
    "# numpy.linspace()\n",
    "# numpy.logspace()\n",
    "# for instance it can be used to create 10 values from 1 to 5 evenly spaced\n",
    "np.linspace(1.0, 5.0, num=10)"
   ]
  },
  {
   "cell_type": "code",
   "execution_count": 17,
   "id": "b39365ed",
   "metadata": {},
   "outputs": [
    {
     "data": {
      "text/plain": [
       "array([1. , 1.8, 2.6, 3.4, 4.2])"
      ]
     },
     "execution_count": 17,
     "metadata": {},
     "output_type": "execute_result"
    }
   ],
   "source": [
    "# not to incluse the last value in the interval\n",
    "\n",
    "np.linspace(1.0,5.0, num=5, endpoint=False)"
   ]
  },
  {
   "cell_type": "code",
   "execution_count": 18,
   "id": "f51e4578",
   "metadata": {},
   "outputs": [
    {
     "data": {
      "text/plain": [
       "array([  100.        ,   464.15888336,  2154.43469003, 10000.        ])"
      ]
     },
     "execution_count": 18,
     "metadata": {},
     "output_type": "execute_result"
    }
   ],
   "source": [
    "# LogSpace\n",
    "# LogSpace returns even spaced numbers on a log scale. Logspace has the same parameters as np.linspace.\n",
    "\n",
    "# Syntax:\n",
    "# numpy.logspace(start, stop, num, endpoint)\n",
    "np.logspace(2,4.0,num=4)"
   ]
  },
  {
   "cell_type": "code",
   "execution_count": 19,
   "id": "7fac6874",
   "metadata": {},
   "outputs": [
    {
     "data": {
      "text/plain": [
       "array([1.+0.j, 2.+0.j, 3.+0.j])"
      ]
     },
     "execution_count": 19,
     "metadata": {},
     "output_type": "execute_result"
    }
   ],
   "source": [
    "# to check the size of an array\n",
    "\n",
    "x = np.array([1, 2, 3], dtype=np.complex128)\n",
    "x"
   ]
  },
  {
   "cell_type": "code",
   "execution_count": 20,
   "id": "fea7dc4b",
   "metadata": {},
   "outputs": [
    {
     "data": {
      "text/plain": [
       "16"
      ]
     },
     "execution_count": 20,
     "metadata": {},
     "output_type": "execute_result"
    }
   ],
   "source": [
    "x.itemsize"
   ]
  },
  {
   "cell_type": "code",
   "execution_count": 21,
   "id": "e7276f94",
   "metadata": {},
   "outputs": [
    {
     "data": {
      "text/plain": [
       "array([[1, 2, 3],\n",
       "       [4, 5, 6]])"
      ]
     },
     "execution_count": 21,
     "metadata": {},
     "output_type": "execute_result"
    }
   ],
   "source": [
    "# indexing and slicing numpy arrays in python\n",
    "\n",
    "np_list = np.array([(1,2,3), (4,5,6)])\n",
    "np_list"
   ]
  },
  {
   "cell_type": "code",
   "execution_count": 22,
   "id": "5752e5e3",
   "metadata": {},
   "outputs": [
    {
     "name": "stdout",
     "output_type": "stream",
     "text": [
      "First row:  [1 2 3]\n",
      "Second row:  [4 5 6]\n"
     ]
    }
   ],
   "source": [
    "print('First row: ', np_list[0])\n",
    "print('Second row: ', np_list[1])"
   ]
  },
  {
   "cell_type": "code",
   "execution_count": 23,
   "id": "b5413184",
   "metadata": {},
   "outputs": [
    {
     "name": "stdout",
     "output_type": "stream",
     "text": [
      "First column:  [1 4]\n",
      "Second column:  [2 5]\n",
      "Third column:  [3 6]\n"
     ]
    }
   ],
   "source": [
    "print('First column: ', np_list[:,0])\n",
    "print('Second column: ', np_list[:,1])\n",
    "print('Third column: ', np_list[:,2])"
   ]
  },
  {
   "cell_type": "code",
   "execution_count": 26,
   "id": "5963bac6",
   "metadata": {},
   "outputs": [
    {
     "name": "stdout",
     "output_type": "stream",
     "text": [
      "min:  3.783335847104121\n",
      "max:  6.076828106755027\n",
      "mean:  4.975494119591061\n",
      "sd:  0.4941611501524621\n"
     ]
    }
   ],
   "source": [
    "# Numpy statistical functions with example\n",
    "\n",
    "np_normal_dis = np.random.normal(5, 0.5, 100)\n",
    "np_normal_dis\n",
    "\n",
    "#min, max, mean, median, sd\n",
    "\n",
    "print('min: ', np_normal_dis.min())\n",
    "print('max: ', np_normal_dis.max())\n",
    "print('mean: ', np_normal_dis.mean())\n",
    "# print('median: ', np_normal_dis.median())\n",
    "print('sd: ', np_normal_dis.std())"
   ]
  },
  {
   "cell_type": "code",
   "execution_count": 31,
   "id": "b7289809",
   "metadata": {},
   "outputs": [
    {
     "name": "stdout",
     "output_type": "stream",
     "text": [
      "[[ 1  2  3]\n",
      " [ 4 55 44]\n",
      " [ 7  8  9]]\n",
      "Column with minimum:  [1 2 3]\n",
      "Column with maximum:  [ 7 55 44]\n",
      "== row ==\n",
      "Row with minimum:  [1 4 7]\n",
      "Row with maximum:  [ 3 55  9]\n"
     ]
    }
   ],
   "source": [
    "print(two_dimension_array)\n",
    "print('Column with minimum: ', np.amin(two_dimension_array, axis=0))\n",
    "print('Column with maximum: ', np.amax(two_dimension_array, axis=0))\n",
    "print('== row ==')\n",
    "print('Row with minimum: ', np.amin(two_dimension_array, axis=1))\n",
    "print('Row with maximum: ', np.amax(two_dimension_array, axis=1))"
   ]
  },
  {
   "cell_type": "code",
   "execution_count": 33,
   "id": "e6bec3d1",
   "metadata": {},
   "outputs": [
    {
     "name": "stdout",
     "output_type": "stream",
     "text": [
      "Tile:  [1 2 3 1 2 3]\n",
      "Repeat:  [1 1 2 2 3 3]\n"
     ]
    }
   ],
   "source": [
    "# How to create repeting sequences\n",
    "\n",
    "a = [1,2,3]\n",
    "# print whole of 'a' two times\n",
    "print('Tile: ', np.tile(a, 2))\n",
    "# repeat reach element of 'a' two times\n",
    "print('Repeat: ', np.repeat(a, 2))"
   ]
  },
  {
   "cell_type": "code",
   "execution_count": 35,
   "id": "03ff6938",
   "metadata": {},
   "outputs": [
    {
     "name": "stdout",
     "output_type": "stream",
     "text": [
      "0.8934781168692233\n",
      "<module 'numpy.random' from '/home/lucas/anaconda3/lib/python3.9/site-packages/numpy/random/__init__.py'>\n"
     ]
    }
   ],
   "source": [
    "# How to generate random numbers\n",
    "\n",
    "one_random_num = np.random.random()\n",
    "one_random_in = np.random\n",
    "print(one_random_num)\n",
    "print(one_random_in)"
   ]
  },
  {
   "cell_type": "code",
   "execution_count": 36,
   "id": "1907a10f",
   "metadata": {},
   "outputs": [
    {
     "name": "stdout",
     "output_type": "stream",
     "text": [
      "[[0.65984418 0.39437783 0.46139147]\n",
      " [0.33165687 0.66211916 0.76699705]]\n"
     ]
    }
   ],
   "source": [
    "r = np.random.random(size=[2,3])\n",
    "print(r)"
   ]
  },
  {
   "cell_type": "code",
   "execution_count": 37,
   "id": "3a81dbc0",
   "metadata": {},
   "outputs": [
    {
     "name": "stdout",
     "output_type": "stream",
     "text": [
      "['o' 'o' 'a' 'a' 'o' 'e' 'e' 'u' 'i' 'o']\n"
     ]
    }
   ],
   "source": [
    "print(np.random.choice(['a','e','i','o','u'], size=10))"
   ]
  },
  {
   "cell_type": "code",
   "execution_count": 38,
   "id": "52afde89",
   "metadata": {},
   "outputs": [
    {
     "data": {
      "text/plain": [
       "array([[0.48962739, 0.13415542],\n",
       "       [0.09949798, 0.92173693]])"
      ]
     },
     "execution_count": 38,
     "metadata": {},
     "output_type": "execute_result"
    }
   ],
   "source": [
    "# Random numbers between [0, 1] of shape 2, 2\n",
    "rand = np.random.rand(2,2)\n",
    "rand"
   ]
  },
  {
   "cell_type": "code",
   "execution_count": 39,
   "id": "5a5c370b",
   "metadata": {},
   "outputs": [
    {
     "data": {
      "text/plain": [
       "array([[-0.13117298, -0.5558591 ],\n",
       "       [-0.45954311, -1.97606466]])"
      ]
     },
     "execution_count": 39,
     "metadata": {},
     "output_type": "execute_result"
    }
   ],
   "source": [
    "rand2 = np.random.randn(2, 2)\n",
    "rand2"
   ]
  },
  {
   "cell_type": "code",
   "execution_count": 40,
   "id": "97d808d6",
   "metadata": {},
   "outputs": [
    {
     "data": {
      "text/plain": [
       "array([[3, 4, 6],\n",
       "       [2, 6, 7],\n",
       "       [1, 4, 4],\n",
       "       [3, 0, 4],\n",
       "       [3, 1, 2]])"
      ]
     },
     "execution_count": 40,
     "metadata": {},
     "output_type": "execute_result"
    }
   ],
   "source": [
    "# Random integers between [0, 10] of shape 2,5\n",
    "rand_int = np.random.randint(0, 10, size=[5,3])\n",
    "rand_int"
   ]
  },
  {
   "cell_type": "code",
   "execution_count": 41,
   "id": "c519ddfe",
   "metadata": {},
   "outputs": [
    {
     "data": {
      "text/plain": [
       "array([4.74563655, 4.42250236, 4.50530757, 4.73714304, 5.27827159,\n",
       "       4.66048353, 4.64423391, 5.97344578, 4.36347118, 4.79802593,\n",
       "       5.13548539, 4.81669738, 5.29245409, 4.37223818, 4.3330231 ,\n",
       "       5.10077981, 4.97001541, 5.36189623, 4.60406461, 5.1643471 ,\n",
       "       4.75884224, 6.06264624, 4.65754272, 4.78431836, 5.18623055,\n",
       "       5.90436113, 4.12284735, 4.52223685, 5.17189751, 4.50030431,\n",
       "       4.44874406, 4.76819958, 4.97340852, 4.57413288, 4.80690885,\n",
       "       4.63998789, 5.31079815, 5.12989891, 5.53486249, 4.96485083,\n",
       "       5.13727656, 4.95859188, 4.2876738 , 4.23892654, 5.62778558,\n",
       "       4.79618044, 5.21131324, 5.46715704, 5.27517747, 5.02502338,\n",
       "       4.44608374, 5.05388686, 5.3082022 , 5.15486935, 4.42392777,\n",
       "       5.12581705, 4.33809694, 5.19762789, 5.1355691 , 6.12924967,\n",
       "       4.87258407, 5.71739706, 5.80693635, 5.1530162 , 4.98462736,\n",
       "       4.94308769, 5.09326089, 5.26865435, 5.58457017, 5.26404465,\n",
       "       4.21906329, 5.2634659 , 4.972835  , 5.29410671, 6.14716621,\n",
       "       4.68121148, 4.88461991, 5.29317412, 4.5624215 , 4.57433364,\n",
       "       5.59340962, 5.49863405, 5.01738448, 4.24363184, 5.48561202,\n",
       "       4.61754021, 4.29393231, 4.71295255, 4.9600097 , 5.5084871 ,\n",
       "       5.1731811 , 5.39340117, 4.82481615, 5.40852328, 4.74130339,\n",
       "       4.21435208, 5.27693375, 4.94320743, 5.21063873, 3.44932479,\n",
       "       4.74658764, 5.6811153 , 4.32954729, 4.59117475, 4.65194152,\n",
       "       5.28480177, 5.39111184, 5.28539394, 5.13478759, 5.4343351 ,\n",
       "       5.50673561, 4.84524272, 4.23478841, 5.15490239, 4.60192748,\n",
       "       5.04664382, 5.64324524, 4.22892625, 5.55430972, 4.5714175 ,\n",
       "       5.54208133, 5.33981697, 4.94308781, 4.97481737, 4.64922666,\n",
       "       3.88308601, 3.96507688, 4.52505574, 5.51564386, 4.97179148,\n",
       "       4.4839134 , 6.01153604, 4.71298932, 5.3694526 , 5.23434582,\n",
       "       5.27112371, 4.34840185, 5.16845929, 4.27687592, 4.48713146,\n",
       "       5.20473286, 4.8404637 , 5.12139845, 4.29035037, 5.28257406,\n",
       "       6.38837479, 4.59809619, 4.37710667, 4.10241624, 4.45507699,\n",
       "       4.27089386, 5.28426526, 4.82026641, 4.05007004, 4.69542393,\n",
       "       4.17494456, 5.36772385, 5.01157505, 4.82726158, 4.36393124,\n",
       "       4.24004949, 4.75944307, 5.23979648, 5.76685313, 5.1173152 ,\n",
       "       5.36611036, 6.62051558, 4.77735059, 5.00237647, 5.86072132,\n",
       "       4.37627558, 5.26500053, 4.16816747, 5.8651776 , 5.47827937,\n",
       "       4.71265802, 4.86761874, 4.77687658, 4.7660707 , 5.03607888,\n",
       "       5.70915268, 4.89723563, 4.01224274, 4.38145176, 4.29152212,\n",
       "       5.03370988, 5.59967975, 4.99291075, 5.14439251, 4.8198468 ,\n",
       "       4.85770158, 6.24021505, 4.79402409, 5.43619897, 4.51095841,\n",
       "       5.07181194, 4.94437774, 5.85428372, 5.48353948, 5.71332461,\n",
       "       5.05466802, 5.01924278, 4.83133176, 5.81697427, 5.07336647,\n",
       "       5.87506557, 4.69167565, 4.42422759, 3.71365697, 5.28794806,\n",
       "       4.71889382, 5.46402878, 5.42580441, 5.18965873, 4.47230799,\n",
       "       3.96681436, 4.62770219, 5.12130833, 5.19232871, 5.39495782,\n",
       "       5.31044032, 5.49303718, 4.83180056, 5.07776774, 4.13493303,\n",
       "       4.70145467, 5.12153966, 6.25743673, 5.22052507, 5.04368457,\n",
       "       4.89139966, 5.45270916, 4.87631156, 5.03820576, 4.98872936,\n",
       "       5.35657377, 5.20090021, 5.05283812, 5.01182787, 4.49511901,\n",
       "       4.67164905, 5.86911732, 4.77991189, 4.77412133, 4.75408231,\n",
       "       5.9157226 , 5.11052224, 5.91496843, 4.99231562, 5.41631502,\n",
       "       5.83598142, 5.44230715, 5.17162579, 4.43984647, 4.32458134,\n",
       "       4.71049794, 5.34868891, 4.19569376, 4.4751887 , 5.49362793,\n",
       "       5.00351791, 5.71940456, 5.63813017, 4.59696255, 5.32892005,\n",
       "       4.83211447, 4.28412501, 5.35324198, 4.46574916, 5.35295085,\n",
       "       4.9847597 , 4.22057829, 4.51221391, 4.93426646, 5.23087493,\n",
       "       4.85247076, 4.48163109, 3.729309  , 4.78896459, 5.87489471,\n",
       "       5.24701077, 4.50874225, 4.42162628, 4.2424941 , 5.0657854 ,\n",
       "       5.09978837, 5.14880646, 4.17744634, 5.29597735, 3.94150314,\n",
       "       4.46730647, 6.19596362, 5.21002168, 4.88271106, 4.54366051,\n",
       "       4.89685589, 4.7560644 , 5.08310738, 6.19790917, 5.32765428,\n",
       "       5.00478698, 5.41359909, 5.43188288, 4.63039072, 5.13553242,\n",
       "       4.76911086, 5.22428361, 4.59420877, 4.58106512, 5.25129079,\n",
       "       5.19193852, 5.64241668, 4.98213351, 5.02622971, 4.73247463,\n",
       "       4.43095714, 5.34308734, 3.80998839, 5.43858263, 5.37230181,\n",
       "       4.44743069, 4.57802239, 4.77098325, 4.98723691, 4.93215529,\n",
       "       5.20993504, 4.76103561, 4.75463058, 5.18861867, 5.14572234,\n",
       "       5.2265259 , 5.51864559, 5.34159472, 5.86630885, 5.7460643 ,\n",
       "       5.32158669, 5.17997137, 5.44518736, 4.98086295, 4.83225518,\n",
       "       5.78164989, 4.21719959, 5.07918676, 5.4203531 , 4.44362554,\n",
       "       5.29659826, 4.81234056, 5.19433043, 5.52682952, 5.14741984,\n",
       "       3.66185461, 5.62684287, 4.20907389, 5.48120986, 4.44181875,\n",
       "       5.31678414, 5.03153337, 5.03456594, 4.42353425, 4.68676226,\n",
       "       4.5793104 , 4.85616702, 5.02741047, 5.01253387, 4.96584044,\n",
       "       4.3609286 , 4.96318853, 5.56408956, 4.94569801, 4.24189367,\n",
       "       4.98601808, 4.96338109, 4.2264146 , 5.28440337, 6.0467304 ,\n",
       "       5.01463674, 6.08425484, 5.24968799, 4.74490759, 4.96268677,\n",
       "       4.5966884 , 4.45622602, 5.64956474, 5.91211934, 4.23763253,\n",
       "       4.51930103, 5.20949296, 4.96351582, 5.00516644, 4.71297389,\n",
       "       5.98644641, 4.87205239, 5.73250318, 5.59180848, 5.32942848,\n",
       "       4.58529431, 4.15458335, 4.07795813, 4.36878515, 4.06724377,\n",
       "       3.9199131 , 4.52641336, 5.72993744, 4.64239612, 4.34975201,\n",
       "       4.56859889, 4.4205241 , 5.52423935, 4.65171797, 5.20221175,\n",
       "       5.23362181, 4.77431223, 4.80494664, 4.48360591, 5.73178784,\n",
       "       5.52205492, 4.79115831, 5.60242267, 5.40881364, 5.10012368,\n",
       "       5.80236842, 4.38504943, 5.35543527, 4.87291168, 4.84809766,\n",
       "       4.91793374, 4.96105648, 5.31940503, 4.98133133, 4.29104187,\n",
       "       4.97349595, 5.5993328 , 5.01985812, 5.32303611, 5.22213421,\n",
       "       5.54791943, 5.33616551, 5.23227723, 5.28947784, 4.55696419,\n",
       "       5.21119394, 5.29609189, 4.96169671, 4.92767955, 5.07563913,\n",
       "       5.17524472, 4.2882988 , 4.89268848, 4.58221206, 6.08567989,\n",
       "       4.92289495, 5.19487948, 5.30838149, 4.41190953, 4.87110997,\n",
       "       5.72991179, 4.94103616, 5.08146449, 5.8942528 , 5.42632169,\n",
       "       4.33281432, 5.37404638, 4.84115394, 4.96298454, 4.1335244 ,\n",
       "       5.18849447, 5.04512376, 4.58535314, 5.13187438, 4.63345896,\n",
       "       5.08884168, 5.24086397, 5.6254803 , 5.52385278, 4.36296541,\n",
       "       4.34858672, 6.04761586, 4.87529174, 5.38216698, 4.29765231,\n",
       "       4.81235379, 5.36851591, 5.40869603, 5.15601491, 5.13309541,\n",
       "       5.57769841, 4.66124107, 4.76037062, 4.21620139, 5.09829291,\n",
       "       4.68938272, 4.01706793, 5.36196441, 5.17390739, 5.59015275,\n",
       "       5.50376906, 4.85882324, 4.71444461, 4.84217612, 4.74533791,\n",
       "       4.88194972, 4.14617414, 5.42239152, 5.01407353, 4.75128369,\n",
       "       5.70271597, 5.51616862, 5.26470099, 4.89294704, 4.4459508 ,\n",
       "       5.304328  , 5.6040517 , 5.0420616 , 5.09057275, 4.26398717,\n",
       "       6.20443258, 5.29678505, 5.00207816, 5.52181104, 4.69313912,\n",
       "       4.91001827, 4.65699888, 4.49889244, 5.43938369, 5.94086321,\n",
       "       5.11994959, 5.03353849, 4.33863062, 5.35410875, 5.28467293,\n",
       "       5.55812118, 6.04831539, 4.76210889, 5.26397118, 4.95682921,\n",
       "       5.34123998, 4.84312918, 5.03083172, 5.30432417, 4.97812261,\n",
       "       4.4143641 , 4.64382901, 4.95166313, 4.99768612, 5.08295839,\n",
       "       5.66189657, 5.90851927, 4.46161754, 5.03210112, 5.17919472,\n",
       "       5.10915222, 5.1365539 , 5.05216349, 5.64003906, 4.4935762 ,\n",
       "       5.70243052, 5.16858468, 4.22504863, 4.92244914, 5.01101411,\n",
       "       6.79371327, 4.99966346, 5.04032278, 5.14932816, 4.06716661,\n",
       "       6.34471522, 4.98086593, 4.6279513 , 4.76539913, 4.29918935,\n",
       "       5.1735812 , 4.91640561, 4.91364459, 4.80978606, 4.53374555,\n",
       "       5.67525368, 5.37067226, 6.02348091, 4.10038011, 5.2390932 ,\n",
       "       5.55410432, 4.43426773, 5.3261391 , 6.27965166, 4.84852894,\n",
       "       5.54381571, 5.82665741, 4.83923025, 4.64112739, 4.88190697,\n",
       "       5.37154853, 4.70754348, 5.0353167 , 5.92453308, 4.83778326,\n",
       "       4.14152394, 5.13764019, 5.20075996, 5.4360386 , 5.13769777,\n",
       "       4.80093193, 4.86576025, 5.39295676, 4.94041714, 4.8239449 ,\n",
       "       5.24950749, 4.74749032, 4.97704302, 4.70130315, 5.86646173,\n",
       "       5.76706239, 4.75224402, 4.32405475, 5.13130814, 5.97157751,\n",
       "       5.78705835, 5.86415594, 4.9023526 , 4.55223381, 5.0759348 ,\n",
       "       4.88405764, 5.70005473, 4.5167162 , 6.10299727, 5.65617117,\n",
       "       5.0785126 , 5.11983124, 4.74973328, 4.63640846, 5.57275886,\n",
       "       4.75998918, 4.869673  , 5.14927001, 4.73800319, 4.74299513,\n",
       "       4.65336183, 4.65935251, 4.23632961, 4.5131177 , 5.08156066,\n",
       "       5.12595625, 4.28166518, 4.4102893 , 4.45724379, 5.01913127,\n",
       "       4.93261196, 4.78636164, 5.49762129, 5.56769722, 4.55467636,\n",
       "       4.75746858, 4.40405966, 4.57788486, 5.58062712, 4.97837475,\n",
       "       4.96612553, 4.77476621, 5.01001081, 5.01727323, 4.72640509,\n",
       "       4.35981942, 4.33707932, 5.75993053, 5.3588123 , 5.21706624,\n",
       "       5.11359507, 5.6922267 , 4.97555835, 4.81223139, 5.78650663,\n",
       "       5.18441978, 4.96235329, 4.90595262, 4.67119158, 4.15187073,\n",
       "       5.26295635, 4.43220719, 4.35840975, 4.96795789, 5.49605388,\n",
       "       5.2027616 , 4.96187598, 5.9719269 , 4.84592078, 4.23027434,\n",
       "       5.47517473, 4.6814341 , 4.68274928, 4.90138422, 4.08032391,\n",
       "       5.18696962, 5.34924474, 5.08903221, 5.56089876, 4.54734533,\n",
       "       4.9645948 , 5.18988723, 4.78429163, 4.73079286, 4.57245603,\n",
       "       4.80341128, 5.81138804, 5.64990936, 5.88874491, 4.79559277,\n",
       "       4.91937915, 5.08789332, 4.52793989, 5.12577509, 5.79948742,\n",
       "       5.38565323, 5.36514743, 5.16400045, 5.44574987, 5.54426176,\n",
       "       4.10662065, 5.6422884 , 5.86248209, 4.88207487, 4.9876282 ,\n",
       "       5.23597666, 5.16917095, 5.38443081, 5.50652869, 4.96392691,\n",
       "       5.54336231, 4.75334439, 5.48842378, 5.03080075, 3.60885147,\n",
       "       5.68028131, 4.99349018, 5.11712817, 5.08322757, 4.96212857,\n",
       "       5.53289337, 5.63724205, 4.67291873, 4.30657295, 5.58126133,\n",
       "       5.61116655, 4.73824843, 5.67095316, 5.99335153, 4.9638425 ,\n",
       "       4.76692471, 4.96011726, 4.63856674, 4.39998617, 4.97129877,\n",
       "       5.31087566, 6.2512611 , 5.2912488 , 5.31024054, 4.69419534,\n",
       "       4.75791253, 5.18709045, 5.20962603, 4.96177693, 5.29450625,\n",
       "       5.57240568, 5.39510864, 5.37215228, 4.57723574, 5.80254939,\n",
       "       5.17547702, 5.83311156, 5.50938308, 4.40109   , 4.48976934,\n",
       "       5.50582418, 4.39378089, 4.72281213, 4.1325544 , 5.47841773,\n",
       "       5.16069053, 5.12234506, 5.51485575, 5.60826926, 4.99137711,\n",
       "       4.87589257, 5.57694566, 5.20386101, 5.03835978, 5.99350028,\n",
       "       5.4630503 , 5.08566898, 4.54380628, 4.27472161, 5.8322121 ,\n",
       "       5.21690379, 4.9460773 , 3.98924462, 4.84646393, 5.35288726,\n",
       "       5.40875712, 4.9697727 , 5.52990113, 5.60407852, 4.38192802,\n",
       "       5.26867578, 4.83152145, 5.32502227, 4.93727238, 4.8515369 ,\n",
       "       4.9488435 , 5.80458282, 5.36983487, 4.73506451, 4.98982633,\n",
       "       5.57443241, 4.45778386, 5.50921287, 4.83956835, 5.26088983,\n",
       "       5.59541082, 4.79574612, 5.21372069, 5.02781972, 5.07244708,\n",
       "       5.27230623, 5.18632812, 5.17630908, 3.98979943, 5.06876739,\n",
       "       5.07652349, 5.08898472, 5.08426763, 5.08627871, 5.39955652,\n",
       "       4.64277368, 5.04709916, 4.41072106, 4.05415614, 4.76137368,\n",
       "       4.70494142, 5.44586641, 5.38366015, 5.03571441, 4.58163818,\n",
       "       4.49450252, 4.845815  , 5.34534077, 5.77728088, 5.75438941,\n",
       "       5.11721599, 3.6811655 , 4.08298031, 4.79041452, 5.49845225,\n",
       "       4.96497233, 5.82956264, 5.79406141, 4.82201327, 5.09483382,\n",
       "       4.59792072, 4.66223065, 4.83423153, 4.50123743, 4.90509644,\n",
       "       5.12349858, 5.31619279, 5.05256429, 5.31567579, 4.13513297,\n",
       "       4.45629757, 5.00502019, 5.02985468, 4.59284038, 4.94278094,\n",
       "       5.13197277, 5.52126842, 5.60518245, 4.96425716, 4.41972107,\n",
       "       4.76423265, 5.05747186, 5.64568553, 4.9938939 , 4.94513152,\n",
       "       4.77369407, 4.52628761, 5.11472838, 5.30367204, 4.41947873,\n",
       "       5.71748568, 4.11281751, 5.45037096, 4.97414845, 5.23695406,\n",
       "       5.64942446, 5.41655021, 4.90542409, 5.05918893, 5.95033894,\n",
       "       6.11146411, 5.24217191, 5.29373003, 5.0418906 , 5.14066765,\n",
       "       4.99359794, 5.78938353, 4.9997768 , 4.98639064, 5.14862751,\n",
       "       4.75794636, 5.2424782 , 5.89390464, 5.42816007, 6.13821375,\n",
       "       5.28975866, 4.95969539, 4.85178551, 6.11798393, 4.97046567,\n",
       "       5.06791998, 5.84403062, 5.09164033, 4.2259497 , 4.42427031,\n",
       "       4.29367867, 4.4028736 , 5.10368809, 4.81633582, 4.4308019 ,\n",
       "       5.32263454, 4.9398632 , 4.93050761, 5.45602488, 5.57661207,\n",
       "       5.70243025, 4.94778161, 5.5783564 , 4.32180175, 5.15050213,\n",
       "       4.48519993, 4.79867781, 4.57562821, 5.26995636, 5.36129266,\n",
       "       4.7276802 , 4.02842419, 4.60856475, 4.82618372, 4.70520527,\n",
       "       4.68315483, 5.21825033, 4.55148325, 5.95010062, 4.23425848,\n",
       "       4.40348334, 6.08143226, 5.35063018, 4.33127647, 4.71080334,\n",
       "       4.97325697, 5.16831328, 5.25027274, 5.42000755, 4.81665894,\n",
       "       5.89003302, 4.88520259, 5.07048054, 4.88796407, 4.57529928,\n",
       "       5.67297657, 4.46439922, 4.75743851, 5.17745162, 5.46135285,\n",
       "       4.48723473, 4.27311848, 5.1253107 , 6.34825078, 5.12443707,\n",
       "       4.59160847, 5.0291711 , 4.85031733, 5.45098752, 4.90608652,\n",
       "       5.06506462, 4.73877362, 4.61118534, 4.89715757, 4.55325851,\n",
       "       4.76250725, 4.89491968, 4.99911883, 5.77639722, 5.67526638,\n",
       "       4.89231553, 4.98914393, 5.06333296, 3.89454267, 4.49043037,\n",
       "       5.80404677, 5.09915685, 5.84820903, 4.72026197, 5.97008244])"
      ]
     },
     "execution_count": 41,
     "metadata": {},
     "output_type": "execute_result"
    }
   ],
   "source": [
    "from scipy import stats\n",
    "np_normal_dis = np.random.normal(5, 0.5, 1000)\n",
    "np_normal_dis"
   ]
  },
  {
   "cell_type": "code",
   "execution_count": 42,
   "id": "f7dd29ff",
   "metadata": {},
   "outputs": [
    {
     "name": "stdout",
     "output_type": "stream",
     "text": [
      "min:  3.449324793908172\n",
      "max:  6.79371326608071\n",
      "mean:  5.025799509680694\n",
      "median:  5.014355138336351\n",
      "mode:  ModeResult(mode=array([3.44932479]), count=array([1]))\n",
      "sd:  0.4985944732165318\n"
     ]
    },
    {
     "name": "stderr",
     "output_type": "stream",
     "text": [
      "/tmp/ipykernel_4479/3910057928.py:5: FutureWarning: Unlike other reduction functions (e.g. `skew`, `kurtosis`), the default behavior of `mode` typically preserves the axis it acts along. In SciPy 1.11.0, this behavior will change: the default value of `keepdims` will become False, the `axis` over which the statistic is taken will be eliminated, and the value None will no longer be accepted. Set `keepdims` to True or False to avoid this warning.\n",
      "  print('mode: ',stats.mode(np_normal_dis))\n"
     ]
    }
   ],
   "source": [
    "print('min: ', np.min(np_normal_dis))\n",
    "print('max: ', np.max(np_normal_dis))\n",
    "print('mean: ', np.mean(np_normal_dis))\n",
    "print('median: ', np.median(np_normal_dis))\n",
    "print('mode: ',stats.mode(np_normal_dis))\n",
    "print('sd: ', np.std(np_normal_dis))"
   ]
  },
  {
   "cell_type": "code",
   "execution_count": 43,
   "id": "69dd2b42",
   "metadata": {},
   "outputs": [
    {
     "data": {
      "image/png": "[encoded data removed]",
      "text/plain": [
       "<Figure size 640x480 with 1 Axes>"
      ]
     },
     "metadata": {},
     "output_type": "display_data"
    }
   ],
   "source": [
    "plt.hist(np_normal_dis, color=\"grey\", bins=21)\n",
    "plt.show()"
   ]
  },
  {
   "cell_type": "code",
   "execution_count": 44,
   "id": "68b3111a",
   "metadata": {},
   "outputs": [
    {
     "data": {
      "text/plain": [
       "23"
      ]
     },
     "execution_count": 44,
     "metadata": {},
     "output_type": "execute_result"
    }
   ],
   "source": [
    "# Linear algebra\n",
    "\n",
    "# 1 dot product\n",
    "\n",
    "f = np.array([1,2,3])\n",
    "g = np.array([4,5,3])\n",
    "np.dot(f, g)"
   ]
  },
  {
   "cell_type": "code",
   "execution_count": 45,
   "id": "e92eac31",
   "metadata": {},
   "outputs": [
    {
     "data": {
      "text/plain": [
       "array([[19, 22],\n",
       "       [43, 50]])"
      ]
     },
     "execution_count": 45,
     "metadata": {},
     "output_type": "execute_result"
    }
   ],
   "source": [
    "# numpy matrixu multiplication with np.matmul()\n",
    "\n",
    "# matmul: matruc product of two arrays\n",
    "\n",
    "h = [[1,2], [3,4]]\n",
    "i = [[5,6], [7,8]]\n",
    "\n",
    "np.matmul(h, i)\n"
   ]
  },
  {
   "cell_type": "code",
   "execution_count": 46,
   "id": "a3235f3f",
   "metadata": {},
   "outputs": [
    {
     "data": {
      "text/plain": [
       "-1.999999999999999"
      ]
     },
     "execution_count": 46,
     "metadata": {},
     "output_type": "execute_result"
    }
   ],
   "source": [
    "# determinant 2 * 2 matrix\n",
    "# 5 * 8 - 7 * 6 np.linalg.det(i)\n",
    "\n",
    "np.linalg.det(i)"
   ]
  },
  {
   "cell_type": "code",
   "execution_count": 47,
   "id": "dd452139",
   "metadata": {},
   "outputs": [
    {
     "data": {
      "text/plain": [
       "array([[0., 1., 0., 1., 0., 1., 0., 1.],\n",
       "       [1., 0., 1., 0., 1., 0., 1., 0.],\n",
       "       [0., 1., 0., 1., 0., 1., 0., 1.],\n",
       "       [1., 0., 1., 0., 1., 0., 1., 0.],\n",
       "       [0., 1., 0., 1., 0., 1., 0., 1.],\n",
       "       [1., 0., 1., 0., 1., 0., 1., 0.],\n",
       "       [0., 1., 0., 1., 0., 1., 0., 1.],\n",
       "       [1., 0., 1., 0., 1., 0., 1., 0.]])"
      ]
     },
     "execution_count": 47,
     "metadata": {},
     "output_type": "execute_result"
    }
   ],
   "source": [
    "z = np.zeros((8,8))\n",
    "z[1::2,::2] = 1\n",
    "z[::2, 1::2] = 1\n",
    "z"
   ]
  },
  {
   "cell_type": "code",
   "execution_count": 48,
   "id": "fad0f817",
   "metadata": {},
   "outputs": [
    {
     "data": {
      "text/plain": [
       "[2, 3, 4, 5, 6, 7, 8, 9, 10, 11, 12]"
      ]
     },
     "execution_count": 48,
     "metadata": {},
     "output_type": "execute_result"
    }
   ],
   "source": [
    "new_list = [x + 2 for x in range(0, 11)]\n",
    "new_list"
   ]
  },
  {
   "cell_type": "code",
   "execution_count": 49,
   "id": "331d33b4",
   "metadata": {},
   "outputs": [
    {
     "data": {
      "text/plain": [
       "array([ 2,  3,  4,  5,  6,  7,  8,  9, 10, 11, 12])"
      ]
     },
     "execution_count": 49,
     "metadata": {},
     "output_type": "execute_result"
    }
   ],
   "source": [
    "np_arr = np.array(range(0, 11))\n",
    "np_arr + 2"
   ]
  },
  {
   "cell_type": "code",
   "execution_count": 50,
   "id": "6b61743a",
   "metadata": {},
   "outputs": [
    {
     "data": {
      "text/plain": [
       "array([ 7,  9, 11, 13, 15])"
      ]
     },
     "execution_count": 50,
     "metadata": {},
     "output_type": "execute_result"
    }
   ],
   "source": [
    "temp = np.array([1,2,3,4,5])\n",
    "pressure = temp * 2 + 5\n",
    "pressure"
   ]
  },
  {
   "cell_type": "code",
   "execution_count": 52,
   "id": "93605e32",
   "metadata": {},
   "outputs": [
    {
     "data": {
      "image/png": "[encoded data removed]",
      "text/plain": [
       "<Figure size 640x480 with 1 Axes>"
      ]
     },
     "metadata": {},
     "output_type": "display_data"
    }
   ],
   "source": [
    "plt.plot(temp, pressure)\n",
    "plt.xlabel('Temperatura in oC')\n",
    "plt.ylabel('Pressure in atm')\n",
    "plt.title('Temperature vs Pressure')\n",
    "plt.xticks(np.arange(0,6,step=0.5))\n",
    "plt.show()"
   ]
  },
  {
   "cell_type": "code",
   "execution_count": 53,
   "id": "ed110c64",
   "metadata": {},
   "outputs": [
    {
     "data": {
      "image/png": "[encoded data removed]",
      "text/plain": [
       "<Figure size 500x500 with 1 Axes>"
      ]
     },
     "metadata": {},
     "output_type": "display_data"
    }
   ],
   "source": [
    "mu = 28\n",
    "sigma = 15\n",
    "samples = 100000\n",
    "x = np.random.normal(mu, sigma, samples)\n",
    "ax = sns.displot(x)\n",
    "ax.set(xlabel=\"x\", ylabel=\"y\")\n",
    "plt.show()"
   ]
  },
  {
   "cell_type": "code",
   "execution_count": null,
   "id": "512d7d22",
   "metadata": {},
   "outputs": [],
   "source": []
  }
 ],
 "metadata": {
  "kernelspec": {
   "display_name": "Python 3 (ipykernel)",
   "language": "python",
   "name": "python3"
  },
  "language_info": {
   "codemirror_mode": {
    "name": "ipython",
    "version": 3
   },
   "file_extension": ".py",
   "mimetype": "text/x-python",
   "name": "python",
   "nbconvert_exporter": "python",
   "pygments_lexer": "ipython3",
   "version": "3.9.13"
  }
 },
 "nbformat": 4,
 "nbformat_minor": 5
}
